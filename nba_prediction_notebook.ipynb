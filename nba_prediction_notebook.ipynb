{
 "cells": [
  {
   "cell_type": "markdown",
   "id": "425c3355",
   "metadata": {},
   "source": [
    "## NBA Prediction\n",
    "--------------\n",
    "**Author: Collins Emezie Ugwuozor** . [Linkedin](https://www.linkedin.com/in/collins-ugwuozor)\n",
    ". [Github](https://github.com/ClassicCollins)\n",
    ". [Twitter](https://x.com/ClassicCollins2)\n",
    ". [Email](mailto:ugwuozorcollinsemezie@gmail.com)\n",
    ". [WhatsApp](https://wa.me/+2348037953669)"
   ]
  },
  {
   "cell_type": "code",
   "execution_count": 14,
   "id": "06e1fa1e",
   "metadata": {},
   "outputs": [],
   "source": [
    "import pandas as pd\n",
    "from sklearn.model_selection import train_test_split\n",
    "from sklearn.ensemble import GradientBoostingClassifier, RandomForestClassifier\n",
    "from sklearn.linear_model import LogisticRegression\n",
    "from sklearn.metrics import accuracy_score\n",
    "import joblib\n",
    "from datetime import datetime\n",
    "import warnings\n",
    "warnings.filterwarnings(\"ignore\")"
   ]
  },
  {
   "cell_type": "code",
   "execution_count": null,
   "id": "4ba4f1f6",
   "metadata": {},
   "outputs": [],
   "source": [
    "# Load Elo ratings data\n",
    "# elo_data = pd.read_csv('https://github.com/fivethirtyeight/data/blob/master/nba-elo/nbaallelo.csv?raw=true')\n",
    "# modern_raptor_players =  pd.read_csv('https://github.com/fivethirtyeight/data/blob/master/nba-raptor/modern_RAPTOR_by_player.csv?raw=true')\n",
    "# modern_raptor_team =  pd.read_csv('https://github.com/fivethirtyeight/data/blob/master/nba-raptor/modern_RAPTOR_by_team.csv?raw=true')\n",
    "# win_prob = pd.read_csv('https://github.com/fivethirtyeight/data/blob/master/nba-winprobs/nba.tsv?raw=true')\n",
    "# team_historical_raptor_data = pd.read_csv('https://github.com/fivethirtyeight/data/blob/master/nba-raptor/historical_RAPTOR_by_team.csv?raw=true')\n",
    "# player_historical_raptor_data = pd.read_csv('https://github.com/fivethirtyeight/data/blob/master/nba-raptor/historical_RAPTOR_by_player.csv?raw=true')"
   ]
  },
  {
   "cell_type": "code",
   "execution_count": 2,
   "id": "2e8e0179",
   "metadata": {},
   "outputs": [],
   "source": [
    "# Load data\n",
    "elo_data = pd.read_csv('elo_data.csv')\n",
    "nba_elo = pd.read_csv('nba_elo.csv')\n",
    "nba_elo_latest = pd.read_csv('nba_elo_latest.csv')\n",
    "modern_raptors_team = pd.read_csv('morden_raptors_team.csv')\n",
    "modern_raptors_player = pd.read_csv('morden_raptors_players.csv')\n",
    "raptor_data = pd.read_csv('raptor_data.csv')\n",
    "raptor_data_team = pd.read_csv('raptor_data_team.csv')\n",
    "win_prob = pd.read_csv('win_prob.tsv', sep='\\t')\n",
    "data_definition = pd.read_csv('data_definition.csv')\n",
    "team_historical_raptor_data = pd.read_csv('team_historical_raptor_data.csv')\n",
    "player_historical_raptor_data = pd.read_csv('player_historical_raptor_data.csv')"
   ]
  },
  {
   "cell_type": "code",
   "execution_count": 3,
   "id": "8e0118a5",
   "metadata": {},
   "outputs": [
    {
     "name": "stderr",
     "output_type": "stream",
     "text": [
      "C:\\Users\\collins\\AppData\\Local\\Temp\\ipykernel_18044\\1991373174.py:13: SettingWithCopyWarning: \n",
      "A value is trying to be set on a copy of a slice from a DataFrame.\n",
      "Try using .loc[row_indexer,col_indexer] = value instead\n",
      "\n",
      "See the caveats in the documentation: https://pandas.pydata.org/pandas-docs/stable/user_guide/indexing.html#returning-a-view-versus-a-copy\n",
      "  df1['game_result'] = (df1['score1'] > df1['score2']).astype(int)\n",
      "C:\\Users\\collins\\AppData\\Local\\Temp\\ipykernel_18044\\1991373174.py:20: SettingWithCopyWarning: \n",
      "A value is trying to be set on a copy of a slice from a DataFrame\n",
      "\n",
      "See the caveats in the documentation: https://pandas.pydata.org/pandas-docs/stable/user_guide/indexing.html#returning-a-view-versus-a-copy\n",
      "  df1.drop(columns=cols_to_drop, inplace=True)\n"
     ]
    }
   ],
   "source": [
    "\n",
    "\n",
    "# Load data\n",
    "table1 = pd.read_csv(\"nba_elo.csv\")\n",
    "table2 = pd.read_csv(\"nba_elo_latest.csv\")\n",
    "\n",
    "def preprocess_data(table1, table2):\n",
    "    table1['date'] = pd.to_datetime(table1['date'])\n",
    "    df1 = table1[(table1['season'] >= 2019) & (table1['season'] <= 2022)]\n",
    "    \n",
    "    table2['date'] = pd.to_datetime(table2['date'])\n",
    "    df2 = table2[table2['season'] == 2023]\n",
    "    \n",
    "    # Determine game results (1 if team1 wins, 0 if team2 wins)\n",
    "    df1['game_result'] = (df1['score1'] > df1['score2']).astype(int)\n",
    "    df2['game_result'] = (df2['score1'] > df2['score2']).astype(int)\n",
    "    \n",
    "    # Drop insignificant columns\n",
    "    cols_to_drop = ['date', 'season', 'playoff', 'team1', 'team2', 'elo1_post', 'elo2_post', 'neutral', \n",
    "                    'carm-elo1_pre', 'carm-elo2_pre', 'carm-elo_prob1', 'carm-elo_prob2', \n",
    "                    'carm-elo1_post', 'carm-elo2_post', 'importance', 'total_rating', 'score1', 'score2']\n",
    "    df1.drop(columns=cols_to_drop, inplace=True)\n",
    "    df2.drop(columns=cols_to_drop, inplace=True)\n",
    "    \n",
    "    df1.reset_index(drop=True, inplace=True)\n",
    "    \n",
    "    train = df1\n",
    "    test = df2\n",
    "    \n",
    "    return train, test\n",
    "\n",
    "train, test = preprocess_data(table1, table2)\n"
   ]
  },
  {
   "cell_type": "code",
   "execution_count": 4,
   "id": "af731abb",
   "metadata": {},
   "outputs": [],
   "source": [
    "\n",
    "def build_model(train):\n",
    "    y = train.pop('game_result')\n",
    "    \n",
    "    # Train/Test Split\n",
    "    X_train, X_val, y_train, y_val = train_test_split(train, y, test_size=0.2, random_state=17)\n",
    "    \n",
    "    # Model Training\n",
    "    GBoost_model = GradientBoostingClassifier(n_estimators=100, learning_rate=0.1, max_depth=2, random_state=42)\n",
    "    GBoost_model.fit(X_train, y_train)\n",
    "    \n",
    "    # Make predictions on the validation set\n",
    "    y_gboost_pred = GBoost_model.predict(X_val)\n",
    "    \n",
    "    # Evaluate the model's accuracy\n",
    "    accuracy_gb = accuracy_score(y_val, y_gboost_pred)\n",
    "    print(\"Gradient Boosting Model Accuracy: \", accuracy_gb)\n",
    "    \n",
    "    # Train Random Forest model\n",
    "    RF_model = RandomForestClassifier(n_estimators=100, random_state=42)\n",
    "    RF_model.fit(X_train, y_train)\n",
    "    \n",
    "    # Make predictions on the validation set\n",
    "    y_rf_pred = RF_model.predict(X_val)\n",
    "    \n",
    "    # Evaluate the model's accuracy\n",
    "    accuracy_rf = accuracy_score(y_val, y_rf_pred)\n",
    "    print(\"Random Forest Model Accuracy: \", accuracy_rf)\n",
    "    \n",
    "    # Train the logistic regression model\n",
    "    lr_model = LogisticRegression(max_iter=10000)\n",
    "    lr_model.fit(X_train, y_train)\n",
    "    \n",
    "    # Make predictions on the validation set\n",
    "    y_lr_pred = lr_model.predict(X_val)\n",
    "    accuracy_lr = accuracy_score(y_val, y_lr_pred)\n",
    "    print(\"Logistic Regression Model Accuracy: \", accuracy_lr)\n",
    "    \n",
    "    return GBoost_model, RF_model, lr_model\n"
   ]
  },
  {
   "cell_type": "code",
   "execution_count": 5,
   "id": "9b5b01b6",
   "metadata": {},
   "outputs": [
    {
     "name": "stdout",
     "output_type": "stream",
     "text": [
      "Gradient Boosting Model Accuracy:  0.6303030303030303\n",
      "Random Forest Model Accuracy:  0.6272727272727273\n",
      "Logistic Regression Model Accuracy:  0.6676767676767676\n"
     ]
    }
   ],
   "source": [
    "\n",
    "GBoost_model, RF_model, lr_model = build_model(train)\n"
   ]
  },
  {
   "cell_type": "code",
   "execution_count": 6,
   "id": "190bf3b5",
   "metadata": {},
   "outputs": [
    {
     "name": "stdout",
     "output_type": "stream",
     "text": [
      "Models saved as nba_lr_model.pkl, nba_rf_model.pkl and nba_GBoost_model.pkl\n"
     ]
    }
   ],
   "source": [
    "\n",
    "# Save the models\n",
    "joblib.dump(lr_model, 'nba_lr_model.pkl')\n",
    "joblib.dump(GBoost_model, 'nba_GBoost_model.pkl')\n",
    "joblib.dump(RF_model, 'nba_rf_model.pkl')\n",
    "print(\"Models saved as nba_lr_model.pkl, nba_rf_model.pkl and nba_GBoost_model.pkl\")\n"
   ]
  },
  {
   "cell_type": "code",
   "execution_count": 7,
   "id": "19743c6c",
   "metadata": {},
   "outputs": [
    {
     "name": "stdout",
     "output_type": "stream",
     "text": [
      "20241029-1846\n",
      "   game_predict\n",
      "0             1\n",
      "1             1\n",
      "2             1\n",
      "3             1\n",
      "4             1\n"
     ]
    }
   ],
   "source": [
    "\n",
    "def evaluate_model(test):\n",
    "    test.drop(columns=['game_result'], inplace=True)\n",
    "    filetime = datetime.now().strftime('%Y%m%d-%H%M')\n",
    "    print(filetime)\n",
    "    \n",
    "    result = pd.DataFrame({'game_predict': lr_model.predict(test)}).sort_index()\n",
    "    print(result.head())\n",
    "    \n",
    "    return result\n",
    "\n",
    "result = evaluate_model(test)\n"
   ]
  },
  {
   "cell_type": "code",
   "execution_count": 8,
   "id": "cc644480",
   "metadata": {},
   "outputs": [],
   "source": [
    "# Preprocess the 2023 season data\n",
    "season_2023 = table2.copy()\n",
    "season_2023.drop(columns=['neutral', 'carm-elo1_pre', 'carm-elo2_pre', 'carm-elo_prob1', 'carm-elo_prob2',\n",
    "                          'date', 'season', 'carm-elo1_post', 'carm-elo2_post', 'elo1_post', 'elo2_post',\n",
    "                          'raptor1_pre', 'raptor2_pre', 'raptor_prob1', 'raptor_prob2', 'importance', 'total_rating'], inplace=True)\n",
    "\n",
    "season_2023_predicted = pd.concat([season_2023, result], axis=1).reindex(season_2023.index)\n",
    "season_2023_played_qualified_prediction = season_2023_predicted[season_2023_predicted['playoff'].isna()]\n"
   ]
  },
  {
   "cell_type": "code",
   "execution_count": 9,
   "id": "0fe5e4fb",
   "metadata": {},
   "outputs": [],
   "source": [
    "\n",
    "# Define function to process and save results for each division\n",
    "def process_division(df, teams, division_name):\n",
    "    home_games = df[df['team1'].isin(teams)]\n",
    "    home_away_games = home_games[home_games['team2'].isin(teams)]\n",
    "    division_results = home_away_games.groupby(by=['team1']).sum().sort_values(by=['game_predict', 'quality'], ascending=[False, False])\n",
    "    division_results.reset_index(inplace=True)\n",
    "    division_results.to_csv(f'results/{division_name}.csv')\n",
    "    return division_results\n"
   ]
  },
  {
   "cell_type": "code",
   "execution_count": 10,
   "id": "2bcdad52",
   "metadata": {},
   "outputs": [],
   "source": [
    "\n",
    "# Process each division\n",
    "Atlantic_teams = ['BOS', 'BRK', 'NYK', 'PHI', 'TOR']\n",
    "Central_teams = ['CHI', 'CLE', 'DET', 'IND', 'MIL']\n",
    "Southeast_teams = ['ATL', 'CHO', 'MIA', 'ORL', 'WAS']\n",
    "Northwest_teams = ['DEN', 'MIN', 'OKC', 'POR', 'UTA']\n",
    "Pacific_teams = ['GSW', 'LAC', 'LAL', 'PHO', 'SAC']\n",
    "Southwest_teams = ['DAL', 'HOU', 'MEM', 'NOP', 'SAS']\n",
    "\n",
    "Atlantic = process_division(season_2023_played_qualified_prediction, Atlantic_teams, 'Atlantic')\n",
    "Central = process_division(season_2023_played_qualified_prediction, Central_teams, 'Central')\n",
    "Southeast = process_division(season_2023_played_qualified_prediction, Southeast_teams, 'Southeast')\n",
    "Northwest = process_division(season_2023_played_qualified_prediction, Northwest_teams, 'Northwest')\n",
    "Pacific = process_division(season_2023_played_qualified_prediction, Pacific_teams, 'Pacific')\n",
    "Southwest = process_division(season_2023_played_qualified_prediction, Southwest_teams, 'Southwest')\n"
   ]
  },
  {
   "cell_type": "code",
   "execution_count": 11,
   "id": "207496ef",
   "metadata": {},
   "outputs": [],
   "source": [
    "\n",
    "# Process conference results\n",
    "Eastern_conference_teams = [Atlantic.team1[0], Central.team1[0], Southeast.team1[0]]\n",
    "Western_conference_teams = [Northwest.team1[0], Pacific.team1[0], Southwest.team1[0]]\n",
    "\n",
    "Eastern_conference_home = season_2023_played_qualified_prediction[season_2023_played_qualified_prediction['team1'].isin(Eastern_conference_teams)]\n",
    "Eastern_conference_home_away = Eastern_conference_home[Eastern_conference_home['team2'].isin(Eastern_conference_teams)]\n",
    "Eastern_conference = Eastern_conference_home_away.groupby(by=['team1']).sum().sort_values(by=['game_predict', 'quality'], ascending=[False, False])\n",
    "Eastern_conference.reset_index(inplace=True)\n",
    "Eastern_conference.to_csv('results/Eastern_conference.csv')\n",
    "\n",
    "Western_conference_home = season_2023_played_qualified_prediction[season_2023_played_qualified_prediction['team1'].isin(Western_conference_teams)]\n",
    "Western_conference_home_away = Western_conference_home[Western_conference_home['team2'].isin(Western_conference_teams)]\n",
    "Western_conference = Western_conference_home_away.groupby(by=['team1']).sum().sort_values(by=['game_predict', 'quality'], ascending=[False, False])\n",
    "Western_conference.reset_index(inplace=True)\n",
    "Western_conference.to_csv('results/Western_conference.csv')\n"
   ]
  },
  {
   "cell_type": "code",
   "execution_count": 13,
   "id": "3a82e614",
   "metadata": {},
   "outputs": [
    {
     "name": "stdout",
     "output_type": "stream",
     "text": [
      "0    DEN\n",
      "Name: team1, dtype: object\n"
     ]
    }
   ],
   "source": [
    "\n",
    "# Process NBA Finals\n",
    "nba_Semi_finals = season_2023_played_qualified_prediction[(season_2023_played_qualified_prediction['team1'] == Eastern_conference.team1[0]) |\n",
    "                                                          (season_2023_played_qualified_prediction['team1'] == Western_conference.team1[0])]\n",
    "nba_finals = nba_Semi_finals[(nba_Semi_finals['team2'] == Western_conference.team1[0]) |\n",
    "                             (nba_Semi_finals['team2'] == Eastern_conference.team1[0])]\n",
    "nba_finals = nba_finals.groupby(by=['team1']).sum().sort_values(by='game_predict', ascending=False)\n",
    "nba_finals.reset_index(inplace=True)\n",
    "\n",
    "winner = nba_finals.head(1)\n",
    "winner.to_csv('results/winner.csv')\n",
    "print(winner.team1)"
   ]
  }
 ],
 "metadata": {
  "kernelspec": {
   "display_name": "Python 3 (ipykernel)",
   "language": "python",
   "name": "python3"
  },
  "language_info": {
   "codemirror_mode": {
    "name": "ipython",
    "version": 3
   },
   "file_extension": ".py",
   "mimetype": "text/x-python",
   "name": "python",
   "nbconvert_exporter": "python",
   "pygments_lexer": "ipython3",
   "version": "3.9.19"
  }
 },
 "nbformat": 4,
 "nbformat_minor": 5
}
