{
 "cells": [
  {
   "cell_type": "markdown",
   "id": "7a3ae8a7",
   "metadata": {},
   "source": [
    "## NBA Prediction With Teams and Fictional Team"
   ]
  },
  {
   "cell_type": "code",
   "execution_count": 1,
   "id": "2ca302cc",
   "metadata": {},
   "outputs": [],
   "source": [
    "# Import libraries\n",
    "import pandas as pd\n",
    "import numpy as np\n",
    "from sklearn.model_selection import train_test_split\n",
    "from sklearn.preprocessing import MinMaxScaler\n",
    "from sklearn.ensemble import GradientBoostingClassifier, RandomForestClassifier\n",
    "from sklearn.linear_model import LogisticRegression\n",
    "from sklearn.metrics import accuracy_score\n",
    "import joblib\n",
    "import warnings\n",
    "warnings.filterwarnings(\"ignore\")\n"
   ]
  },
  {
   "cell_type": "code",
   "execution_count": 2,
   "id": "e71faccd",
   "metadata": {},
   "outputs": [],
   "source": [
    "# Load data\n",
    "elo_data = pd.read_csv('data/elo_data.csv')\n",
    "nba_elo = pd.read_csv('data/nba_elo.csv')\n",
    "nba_elo_latest = pd.read_csv('data/nba_elo_latest.csv')\n",
    "modern_raptors_team = pd.read_csv('data/modern_raptors_team.csv')\n",
    "modern_raptors_player = pd.read_csv('data/modern_raptors_players.csv')\n",
    "raptor_data = pd.read_csv('data/raptor_data.csv')\n",
    "raptor_data_team = pd.read_csv('data/raptor_data_team.csv')\n",
    "win_prob = pd.read_csv('data/win_prob.tsv', sep='\\t')\n",
    "data_definition = pd.read_csv('data/data_definition.csv')\n",
    "team_historical_raptor_data = pd.read_csv('data/team_historical_raptor_data.csv')\n",
    "player_historical_raptor_data = pd.read_csv('data/player_historical_raptor_data.csv')\n"
   ]
  },
  {
   "cell_type": "code",
   "execution_count": 3,
   "id": "95cd64db",
   "metadata": {},
   "outputs": [],
   "source": [
    "\n",
    "# Data Preprocessing and Feature Engineering\n",
    "def preprocess_data(elo_data, raptor_data):\n",
    "    # Aggregate RAPTOR data\n",
    "    raptor_agg = raptor_data.groupby('team').agg({\n",
    "        'raptor_offense': 'mean', \n",
    "        'raptor_defense': 'mean', \n",
    "        'raptor_box_total': 'mean', \n",
    "        'war_total': 'mean'\n",
    "    }).reset_index()\n",
    "    \n",
    "    # Merge aggregated RAPTOR data with Elo data\n",
    "    elo_data = elo_data.merge(raptor_agg, left_on='team1', right_on='team', how='left').drop('team', axis=1)\n",
    "    \n",
    "    # Define the features used for training the model\n",
    "    features = ['elo1_pre', 'elo2_pre', 'elo_prob1', 'elo_prob2', \n",
    "                'raptor1_pre', 'raptor2_pre', 'raptor_prob1', 'raptor_prob2',\n",
    "                'score1', 'score2', 'raptor_offense', 'raptor_defense', \n",
    "                'raptor_box_total', 'war_total', 'date', 'team1', 'team2']\n",
    "    elo_data = elo_data[features]\n",
    "    \n",
    "    # Drop NaN values\n",
    "    elo_data = elo_data.dropna()\n",
    "    return elo_data\n",
    "elo_processed_data = preprocess_data(nba_elo, modern_raptors_team)"
   ]
  },
  {
   "cell_type": "code",
   "execution_count": 4,
   "id": "43b82252",
   "metadata": {},
   "outputs": [],
   "source": [
    "def model(elo_processed_data):\n",
    "    # Binary target: 1 if team1 wins, 0 otherwise\n",
    "    y = (elo_processed_data['score1'] > elo_processed_data['score2']).astype(int)\n",
    "\n",
    "    # Drop labels\n",
    "    X = elo_processed_data.drop(['score1', 'score2', 'date', 'team1', 'team2'], axis=1)\n",
    "\n",
    "    # Scale features\n",
    "    #scaler = MinMaxScaler()\n",
    "    #X = scaler.fit_transform(X)\n",
    "\n",
    "    # Train/Test Split\n",
    "    X_train, X_test, y_train, y_test = train_test_split(X, y, test_size=0.2, random_state=42)\n",
    "\n",
    "    # Model Training\n",
    "    # Train Gradient Boosting Model\n",
    "    GBoost_model = GradientBoostingClassifier(n_estimators=100, learning_rate=0.1, max_depth=2, random_state=42)\n",
    "    GBoost_model.fit(X_train, y_train)\n",
    "    # Make predictions on the test set\n",
    "    y_gboost_pred = GBoost_model.predict(X_test)\n",
    "    # Evaluate the model's accuracy\n",
    "    accuracy_gb = accuracy_score(y_test, y_gboost_pred)\n",
    "    print(\"Gradient Boosting Model Accuracy: \", accuracy_gb)\n",
    "\n",
    "     # Train Random Forest model\n",
    "    RF_model = RandomForestClassifier(n_estimators=100, random_state=42)\n",
    "    RF_model.fit(X_train, y_train)\n",
    "    # Make predictions on the validation set\n",
    "    y_rf_pred = RF_model.predict(X_test)\n",
    "    # Evaluate the model's accuracy\n",
    "    accuracy_rf = accuracy_score(y_test, y_rf_pred)\n",
    "    print(\"Random Forest Model Accuracy: \", accuracy_rf)\n",
    "\n",
    "    # Train the logistic regression model\n",
    "    lr_model = LogisticRegression(max_iter=10000)\n",
    "    lr_model.fit(X_train, y_train)\n",
    "    # Make predictions on the test set\n",
    "    y_lr_pred = lr_model.predict(X_test)\n",
    "    # Evaluate the model's accuracy\n",
    "    accuracy_lr = accuracy_score(y_test, y_lr_pred)\n",
    "    print(\"Logistic Regression Model Accuracy: \", accuracy_lr)\n",
    "\n",
    "    return GBoost_model,RF_model, lr_model\n",
    "    \n"
   ]
  },
  {
   "cell_type": "code",
   "execution_count": 5,
   "id": "6a0b7244",
   "metadata": {},
   "outputs": [
    {
     "name": "stdout",
     "output_type": "stream",
     "text": [
      "Gradient Boosting Model Accuracy:  0.6447368421052632\n",
      "Random Forest Model Accuracy:  0.6151315789473685\n",
      "Logistic Regression Model Accuracy:  0.6414473684210527\n"
     ]
    }
   ],
   "source": [
    "GBoost_model,RF_model, lr_model = model(elo_processed_data)"
   ]
  },
  {
   "cell_type": "code",
   "execution_count": 6,
   "id": "c7890d40",
   "metadata": {},
   "outputs": [
    {
     "name": "stdout",
     "output_type": "stream",
     "text": [
      "Models saved as nba_lr_model.pkl, nba_rf_model.pkl and nba_GBoost_model.pkl\n"
     ]
    }
   ],
   "source": [
    "# Saving trained models\n",
    "joblib.dump(lr_model, 'nba_lr_model.pkl')\n",
    "joblib.dump(RF_model, 'nba_rf_model.pkl')\n",
    "joblib.dump(GBoost_model, 'nba_GBoost_model.pkl')\n",
    "print(\"Models saved as nba_lr_model.pkl, nba_rf_model.pkl and nba_GBoost_model.pkl\")\n"
   ]
  },
  {
   "cell_type": "code",
   "execution_count": 7,
   "id": "804c3d55",
   "metadata": {},
   "outputs": [],
   "source": [
    "def predict_outcome(team1, team2, date, data):\n",
    "    # Get the latest game data\n",
    "    new_game = data[(data['team1'] == team1) & \n",
    "                    (data['team2'] == team2) & \n",
    "                    (data['date'] < date)].sort_values(by='date', ascending=False).head(1)\n",
    "\n",
    "    if new_game.empty:\n",
    "        print(f\"No previous data found for {team1} vs {team2} before {date}.\")\n",
    "        return None, None\n",
    "\n",
    "    features = new_game.drop(['score1', 'score2', 'date', 'team1', 'team2'], axis=1)\n",
    "    \n",
    "    # Drop NaN values\n",
    "    features = features.dropna()\n",
    "\n",
    "    # Ensure there are features to predict\n",
    "    if features.empty:\n",
    "        print(\"Features are empty after dropping NaN values.\")\n",
    "        return None, None\n",
    "\n",
    "    # Make a prediction for the outcome of the new game\n",
    "    prediction1 = lr_model.predict(features)\n",
    "    prediction_prob = lr_model.predict_proba(features)[0][1]\n",
    "    return prediction1, prediction_prob"
   ]
  },
  {
   "cell_type": "code",
   "execution_count": 8,
   "id": "24244371",
   "metadata": {},
   "outputs": [
    {
     "name": "stdout",
     "output_type": "stream",
     "text": [
      "The predicted outcome of the game between DEN and MIA on 2024-10-16 is DEN wins with 70.1% probability\n"
     ]
    }
   ],
   "source": [
    "\n",
    "team1 = 'DEN' # Home Team\n",
    "team2 = 'MIA' # Away Team\n",
    "date = '2024-10-16'\n",
    "data = elo_processed_data\n",
    "# Predicting the outcome\n",
    "prediction1, prediction = predict_outcome(team1, team2, date, data)\n",
    "\n",
    "if prediction1 is None:\n",
    "    print(f\"No previous data found for teams {team1} and {team2} before {date}\")\n",
    "elif prediction1 == 1:\n",
    "    print(f\"The predicted outcome of the game between {team1} and {team2} on {date} is {team1} wins with {prediction*100:.1f}% probability\")\n",
    "elif prediction1 == 0:\n",
    "    print(f\"The predicted outcome of the game between {team1} and {team2} on {date} is {team1} loose with {prediction*100:.1f}% probability\")\n",
    "else:\n",
    "    print(f\"The predicted outcome of the game between {team1} and {team2} on {date} is uncertain\")"
   ]
  },
  {
   "cell_type": "markdown",
   "id": "897467b2",
   "metadata": {},
   "source": [
    "## Fictional Team Creation Based on Aggregate of 15 Player Statistics"
   ]
  },
  {
   "cell_type": "code",
   "execution_count": 9,
   "id": "b0c9345b",
   "metadata": {},
   "outputs": [],
   "source": [
    "# Aggregate raptors data\n",
    "raptor_agg2 = modern_raptors_team.groupby('team').agg({\n",
    "        'raptor_offense': 'mean', \n",
    "        'raptor_defense': 'mean', \n",
    "        'raptor_box_total': 'mean', \n",
    "        'war_total': 'mean',\n",
    "        'pace_impact': 'mean',\n",
    "        'raptor_onoff_total': 'mean'\n",
    "    }).reset_index()\n",
    "\n",
    "# Merge aggregated RAPTOR data with Elo data\n",
    "raptor_train_data = nba_elo.merge(raptor_agg2, left_on='team1', right_on='team', how='left').drop('team', axis=1)\n",
    "    \n",
    "# Define the features used for training the model\n",
    "features = ['score1', 'score2', 'raptor_offense', 'raptor_defense', \n",
    "                'raptor_box_total', 'war_total', 'pace_impact',\n",
    "        'raptor_onoff_total','date', 'team1', 'team2']\n",
    "raptor_train_data2 = raptor_train_data[features]\n",
    "# Drop NaN Values\n",
    "raptor_train = raptor_train_data2.dropna()"
   ]
  },
  {
   "cell_type": "code",
   "execution_count": 10,
   "id": "e651fc08",
   "metadata": {},
   "outputs": [
    {
     "data": {
      "text/html": [
       "<div>\n",
       "<style scoped>\n",
       "    .dataframe tbody tr th:only-of-type {\n",
       "        vertical-align: middle;\n",
       "    }\n",
       "\n",
       "    .dataframe tbody tr th {\n",
       "        vertical-align: top;\n",
       "    }\n",
       "\n",
       "    .dataframe thead th {\n",
       "        text-align: right;\n",
       "    }\n",
       "</style>\n",
       "<table border=\"1\" class=\"dataframe\">\n",
       "  <thead>\n",
       "    <tr style=\"text-align: right;\">\n",
       "      <th></th>\n",
       "      <th>score1</th>\n",
       "      <th>score2</th>\n",
       "      <th>raptor_offense</th>\n",
       "      <th>raptor_defense</th>\n",
       "      <th>raptor_box_total</th>\n",
       "      <th>war_total</th>\n",
       "      <th>pace_impact</th>\n",
       "      <th>raptor_onoff_total</th>\n",
       "      <th>date</th>\n",
       "      <th>team1</th>\n",
       "      <th>team2</th>\n",
       "    </tr>\n",
       "  </thead>\n",
       "  <tbody>\n",
       "    <tr>\n",
       "      <th>8</th>\n",
       "      <td>55</td>\n",
       "      <td>57</td>\n",
       "      <td>-0.997340</td>\n",
       "      <td>0.108404</td>\n",
       "      <td>-0.724189</td>\n",
       "      <td>1.207124</td>\n",
       "      <td>0.147099</td>\n",
       "      <td>-1.118666</td>\n",
       "      <td>1946-11-05</td>\n",
       "      <td>BOS</td>\n",
       "      <td>CHS</td>\n",
       "    </tr>\n",
       "    <tr>\n",
       "      <th>18</th>\n",
       "      <td>68</td>\n",
       "      <td>78</td>\n",
       "      <td>-2.163535</td>\n",
       "      <td>-0.398971</td>\n",
       "      <td>-2.447883</td>\n",
       "      <td>0.856448</td>\n",
       "      <td>-0.051080</td>\n",
       "      <td>-2.580932</td>\n",
       "      <td>1946-11-11</td>\n",
       "      <td>NYK</td>\n",
       "      <td>CHS</td>\n",
       "    </tr>\n",
       "  </tbody>\n",
       "</table>\n",
       "</div>"
      ],
      "text/plain": [
       "    score1  score2  raptor_offense  raptor_defense  raptor_box_total  \\\n",
       "8       55      57       -0.997340        0.108404         -0.724189   \n",
       "18      68      78       -2.163535       -0.398971         -2.447883   \n",
       "\n",
       "    war_total  pace_impact  raptor_onoff_total        date team1 team2  \n",
       "8    1.207124     0.147099           -1.118666  1946-11-05   BOS   CHS  \n",
       "18   0.856448    -0.051080           -2.580932  1946-11-11   NYK   CHS  "
      ]
     },
     "execution_count": 10,
     "metadata": {},
     "output_type": "execute_result"
    }
   ],
   "source": [
    "raptor_train.head(2)"
   ]
  },
  {
   "cell_type": "code",
   "execution_count": 11,
   "id": "74d03480",
   "metadata": {},
   "outputs": [
    {
     "name": "stdout",
     "output_type": "stream",
     "text": [
      "Gradient Boosting Model Accuracy:  0.6270159493896462\n",
      "Random Forest Model Accuracy:  0.6297781341887196\n",
      "Logistic Regression Model Accuracy:  0.6270159493896462\n"
     ]
    }
   ],
   "source": [
    "GBoost_model,RF_model,lr_model = model(raptor_train)"
   ]
  },
  {
   "cell_type": "code",
   "execution_count": 12,
   "id": "f8f9e762",
   "metadata": {},
   "outputs": [
    {
     "data": {
      "text/html": [
       "<div>\n",
       "<style scoped>\n",
       "    .dataframe tbody tr th:only-of-type {\n",
       "        vertical-align: middle;\n",
       "    }\n",
       "\n",
       "    .dataframe tbody tr th {\n",
       "        vertical-align: top;\n",
       "    }\n",
       "\n",
       "    .dataframe thead th {\n",
       "        text-align: right;\n",
       "    }\n",
       "</style>\n",
       "<table border=\"1\" class=\"dataframe\">\n",
       "  <thead>\n",
       "    <tr style=\"text-align: right;\">\n",
       "      <th></th>\n",
       "      <th>raptor_offense</th>\n",
       "      <th>raptor_defense</th>\n",
       "      <th>raptor_box_total</th>\n",
       "      <th>war_total</th>\n",
       "      <th>pace_impact</th>\n",
       "      <th>raptor_onoff_total</th>\n",
       "    </tr>\n",
       "  </thead>\n",
       "  <tbody>\n",
       "    <tr>\n",
       "      <th>0</th>\n",
       "      <td>-1.455596</td>\n",
       "      <td>-0.501936</td>\n",
       "      <td>-1.564086</td>\n",
       "      <td>0.752464</td>\n",
       "      <td>-0.220097</td>\n",
       "      <td>-3.056229</td>\n",
       "    </tr>\n",
       "  </tbody>\n",
       "</table>\n",
       "</div>"
      ],
      "text/plain": [
       "   raptor_offense  raptor_defense  raptor_box_total  war_total  pace_impact  \\\n",
       "0       -1.455596       -0.501936         -1.564086   0.752464    -0.220097   \n",
       "\n",
       "   raptor_onoff_total  \n",
       "0           -3.056229  "
      ]
     },
     "execution_count": 12,
     "metadata": {},
     "output_type": "execute_result"
    }
   ],
   "source": [
    "# Group by player_name\n",
    "player_raptor_agg = modern_raptors_player.groupby('player_name').agg({\n",
    "        'raptor_offense': 'mean', \n",
    "        'raptor_defense': 'mean', \n",
    "        'raptor_box_total': 'mean', \n",
    "        'war_total': 'mean',\n",
    "        'pace_impact': 'mean',\n",
    "        'raptor_onoff_total': 'mean'\n",
    "    }).reset_index()\n",
    "\n",
    "# Sort by total_raptor in descending order and select the top players\n",
    "#top_players = player_raptor_agg.sort_values(by='raptor_total', ascending=False).head(15)\n",
    "\n",
    "# Select 15 Players at random\n",
    "fictional_players = player_raptor_agg.sample(n=15)\n",
    "\n",
    "fictional_team = fictional_players[['raptor_offense', \n",
    "        'raptor_defense', \n",
    "        'raptor_box_total', \n",
    "        'war_total',\n",
    "        'pace_impact',\n",
    "        'raptor_onoff_total',\n",
    "        ]].mean()\n",
    "\n",
    "fictional_team.to_frame().T"
   ]
  },
  {
   "cell_type": "code",
   "execution_count": 13,
   "id": "0913261c",
   "metadata": {},
   "outputs": [],
   "source": [
    "# Create fictional team stats based on selected players\n",
    "fictional_team_stats = fictional_players[['raptor_offense', \n",
    "                                                'raptor_defense', \n",
    "                                                'raptor_box_total', \n",
    "                                                'war_total',\n",
    "                                                'pace_impact',\n",
    "                                                'raptor_onoff_total']].mean().to_frame().T\n",
    "fictional_team_stats['date'] = '2023-10-16'  # Example date\n",
    "\n",
    "# Get historical teams from raptor_train\n",
    "historical_teams = raptor_train['team1'].unique()\n",
    "\n",
    "# Create a DataFrame for fictional games against each historical team\n",
    "fictional_games = pd.concat(\n",
    "    [fictional_team_stats.assign(team1='fictional_team', team2=team2) for team2 in historical_teams],\n",
    "    ignore_index=True\n",
    ")\n",
    "\n",
    "# Integrate fictional games into the existing training data\n",
    "raptor_train_data_combined = pd.concat([raptor_train, fictional_games], ignore_index=True)"
   ]
  },
  {
   "cell_type": "code",
   "execution_count": 14,
   "id": "07519456",
   "metadata": {},
   "outputs": [
    {
     "name": "stdout",
     "output_type": "stream",
     "text": [
      "Gradient Boosting Model Accuracy:  0.6270159493896462\n",
      "Random Forest Model Accuracy:  0.6297781341887196\n",
      "Logistic Regression Model Accuracy:  0.6270159493896462\n"
     ]
    }
   ],
   "source": [
    "GBoost_model,RF_model,lr_model = model(raptor_train)"
   ]
  },
  {
   "cell_type": "code",
   "execution_count": 15,
   "id": "84c6fd01",
   "metadata": {},
   "outputs": [
    {
     "name": "stdout",
     "output_type": "stream",
     "text": [
      "The predicted outcome of the game between fictional_team and MIA on 2024-10-16 is fictional_team wins with 58.2% probability\n"
     ]
    }
   ],
   "source": [
    "# Prediction\n",
    "team1 = 'fictional_team'\n",
    "team2 = 'MIA'\n",
    "date = '2024-10-16'\n",
    "data = raptor_train_data_combined\n",
    "\n",
    "prediction1, prediction = predict_outcome(team1, team2, date, data)\n",
    "\n",
    "if prediction1 is None:\n",
    "    print(f\"No previous data found for teams {team1} and {team2} before {date}\")\n",
    "elif prediction1 == 1:\n",
    "    print(f\"The predicted outcome of the game between {team1} and {team2} on {date} is {team1} wins with {prediction * 100:.1f}% probability\")\n",
    "else:\n",
    "    print(f\"The predicted outcome of the game between {team1} and {team2} on {date} is {team1} loses with {prediction * 100:.1f}% probability\")\n",
    "\n"
   ]
  }
 ],
 "metadata": {
  "kernelspec": {
   "display_name": "Python 3 (ipykernel)",
   "language": "python",
   "name": "python3"
  },
  "language_info": {
   "codemirror_mode": {
    "name": "ipython",
    "version": 3
   },
   "file_extension": ".py",
   "mimetype": "text/x-python",
   "name": "python",
   "nbconvert_exporter": "python",
   "pygments_lexer": "ipython3",
   "version": "3.9.19"
  }
 },
 "nbformat": 4,
 "nbformat_minor": 5
}
